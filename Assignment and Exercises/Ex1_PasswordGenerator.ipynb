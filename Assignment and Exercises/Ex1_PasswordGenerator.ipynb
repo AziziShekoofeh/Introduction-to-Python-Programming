{
 "cells": [
  {
   "cell_type": "code",
   "execution_count": 2,
   "metadata": {},
   "outputs": [
    {
     "name": "stdout",
     "output_type": "stream",
     "text": [
      "JlW9i*dt8Pp(rUa0A3D$\n"
     ]
    }
   ],
   "source": [
    "# Simple Solution\n",
    "import random\n",
    "\n",
    "sample_string = \"abcdefghijklmnopqrstuvwxyz01234567890ABCDEFGHIJKLMNOPQRSTUVWXYZ!@#$%^&*()?\"\n",
    "pass_len = 20\n",
    "p =  \"\".join(random.sample(sample_string, pass_len))\n",
    "print(p)"
   ]
  },
  {
   "cell_type": "code",
   "execution_count": null,
   "metadata": {
    "collapsed": true
   },
   "outputs": [],
   "source": [
    "# Your Solution\n",
    "# Improve above solution to consider these extra points:\n",
    "# 1- Ask user about the password length\n",
    "# 2- Genertae sample string using string package methods\n",
    "# 3- Only accept password length greater than 6\n",
    "# 4- Ask User if needs another password\n",
    "# 5- The password certainty contain at least one Upper Case, \n",
    "#    at least one smaller case alphabet, \n",
    "#    at least one number and at least one special character.\n",
    "\n",
    "import random\n",
    "import string\n",
    "\n",
    "def pwd_gen(len):\n",
    "    # Generate String of upper/lower/punctuation/numbers\n",
    "    ### START CODE HERE ### \n",
    "    # Hint: string.ascii_uppercase\n",
    "    upper = None \n",
    "    lower = None\n",
    "    chars = None\n",
    "    numbers = None\n",
    "    ### END CODER HERE ###\n",
    "    upper = list(upper)\n",
    "    lower = list(lower)\n",
    "    chars = list(chars)\n",
    "    numbers = list(numbers)\n",
    "    \n",
    "    ### START CODE HERE ###\n",
    "    # Hint: random.randint(1, n)\n",
    "    # Randomly select the number of characters in each of the groups\n",
    "    u = None\n",
    "    l = None\n",
    "    c = None\n",
    "    ### END CODER HERE ###\n",
    "    n = len-u-l-c\n",
    "    \n",
    "    ### START CODE HERE ###\n",
    "    # Hint: Use random.sample to select from each of the groups\n",
    "    password = None\n",
    "    ### END CODER HERE ###\n",
    "    \n",
    "    random.shuffle(password)\n",
    "    return \"\".join(password)\n",
    "\n",
    "\n",
    "if __name__ == \"__main__\":\n",
    "    len = 0\n",
    "    min_acceptable = 6\n",
    "    stop = False\n",
    "    while (stop==False):\n",
    "        while (len < min_acceptable):\n",
    "            ### START CODE HERE ###\n",
    "            # Ask the user about the lenght of password with a proper message\n",
    "            # Hint: use input()\n",
    "            len = None\n",
    "            ### END CODER HERE ###\n",
    "        generated_password = pwd_gen(len)\n",
    "        print(generated_password)\n",
    "        len = 0\n",
    "        stop_signal = input('Would you like to have another password?[yes/no]\\n')\n",
    "        if stop_signal.lower() == 'yes' or stop_signal.lower() == 'y':\n",
    "            stop=False\n",
    "        elif stop_signal.lower() == 'no' or stop_signal.lower() == 'n':\n",
    "            stop=True    \n",
    "        ### Could you improve the above conditions?! ###"
   ]
  },
  {
   "cell_type": "code",
   "execution_count": null,
   "metadata": {},
   "outputs": [],
   "source": [
    "# Solution\n",
    "import random\n",
    "import string\n",
    "\n",
    "def pwd_gen(length):\n",
    "    upper = string.ascii_uppercase\n",
    "    lower = string.ascii_lowercase\n",
    "    chars = string.punctuation\n",
    "    numbers = string.digits\n",
    "    upper = list(upper)\n",
    "    lower = list(lower)\n",
    "    chars = list(chars)\n",
    "    numbers = list(numbers)\n",
    "    u = random.randint(1, len-3)\n",
    "    l = random.randint(1, len-2-u)\n",
    "    c = random.randint(1, len-1-u-l)\n",
    "    print(u,l,c)\n",
    "    n = len-u-l-c\n",
    "    password = random.sample(upper,u)+random.sample(lower,l)+random.sample(chars,c)+random.sample(numbers,n)\n",
    "    random.shuffle(password)\n",
    "    return \"\".join(password)\n",
    "\n",
    "\n",
    "if __name__ == \"__main__\":\n",
    "    len = 0\n",
    "    stop = False\n",
    "    while (stop==False):\n",
    "        while(len < 6 ):\n",
    "            len = int(input(\"Enter the length of the password required (minimum 6 characters) : \"))\n",
    "        your_password = pwd_gen(len)\n",
    "        print(your_password)\n",
    "        len = 0\n",
    "        stop_signal = input('Would you like to have another password?[yes/no]\\n')\n",
    "        if stop_signal.lower() == 'yes' or stop_signal.lower() == 'y':\n",
    "            stop=False\n",
    "        elif stop_signal.lower() == 'no' or stop_signal.lower() == 'n':\n",
    "            stop=True"
   ]
  }
 ],
 "metadata": {
  "kernelspec": {
   "display_name": "Python 2",
   "language": "python",
   "name": "python2"
  },
  "language_info": {
   "codemirror_mode": {
    "name": "ipython",
    "version": 2
   },
   "file_extension": ".py",
   "mimetype": "text/x-python",
   "name": "python",
   "nbconvert_exporter": "python",
   "pygments_lexer": "ipython2",
   "version": "2.7.9"
  }
 },
 "nbformat": 4,
 "nbformat_minor": 1
}

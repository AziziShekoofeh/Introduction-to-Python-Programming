{
 "cells": [
  {
   "cell_type": "code",
   "execution_count": 4,
   "metadata": {},
   "outputs": [
    {
     "name": "stdout",
     "output_type": "stream",
     "text": [
      "Welcome to the dictionary. We know the synonym of:\n",
      "Enter your word:\n",
      "Common words are:\n",
      "None\n"
     ]
    }
   ],
   "source": [
    "# Print the meaning of a given word form the user using two dictionary\n",
    "\n",
    "dic_1 = {\n",
    "    'Hope': 'Aspire',\n",
    "    'Passion': 'Enthusiasm',\n",
    "    'Honest': 'Truthful'}\n",
    "\n",
    "dic_2 = {\n",
    "    'Help': 'Aid',\n",
    "    'Harmony': 'Concord',\n",
    "    'Honest': 'Sincere',\n",
    "    'Moral': 'Ethical',\n",
    "    'Hope': 'Desire'}\n",
    "\n",
    "print('Welcome to the dictionary. We know the synonym of:')\n",
    "### START CODE HERE ###\n",
    "# Hint yu can use logical & and | for the sets\n",
    "### END CODER HERE ###\n",
    "\n",
    "print('Enter your word:')\n",
    "### START CODE HERE ###\n",
    "search_keyword = None\n",
    "### END CODER HERE ###\n",
    "\n",
    "print('Common words are:')\n",
    "### START CODE HERE ###\n",
    "intersection_keys = None\n",
    "### END CODE HERE ###\n",
    "print(intersection_keys)\n",
    "\n",
    "### START CODE HERE ###\n",
    "#if search_keyword in None:\n",
    "#    print(\"Words and meaning from both dictionary\")  \n",
    "### END CODE HERE ###\n",
    "\n"
   ]
  },
  {
   "cell_type": "code",
   "execution_count": null,
   "metadata": {},
   "outputs": [],
   "source": []
  }
 ],
 "metadata": {
  "kernelspec": {
   "display_name": "Python 2",
   "language": "python",
   "name": "python2"
  },
  "language_info": {
   "codemirror_mode": {
    "name": "ipython",
    "version": 2
   },
   "file_extension": ".py",
   "mimetype": "text/x-python",
   "name": "python",
   "nbconvert_exporter": "python",
   "pygments_lexer": "ipython2",
   "version": "2.7.9"
  }
 },
 "nbformat": 4,
 "nbformat_minor": 2
}
